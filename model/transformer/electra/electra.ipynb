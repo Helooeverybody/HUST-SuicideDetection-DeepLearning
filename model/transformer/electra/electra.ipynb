{
 "cells": [
  {
   "cell_type": "code",
   "execution_count": 1,
   "metadata": {},
   "outputs": [],
   "source": [
    "from sklearn.model_selection import train_test_split\n",
    "import numpy as np\n",
    "import pandas as pd\n",
    "from torch.utils.data import Dataset\n",
    "from transformers import ElectraTokenizerFast,Trainer,TrainingArguments\n",
    "from transformers import ElectraForSequenceClassification,Pipeline\n",
    "from transformers.tokenization_utils_base import PreTrainedTokenizerBase\n",
    "import torch\n",
    "from sklearn.metrics import accuracy_score,precision_score,recall_score,f1_score"
   ]
  },
  {
   "cell_type": "code",
   "execution_count": 2,
   "metadata": {},
   "outputs": [],
   "source": [
    "RANDOM_SEED = 42\n",
    "device = torch.device(\"cuda\" if torch.cuda.is_available() else \"cpu\")"
   ]
  },
  {
   "cell_type": "code",
   "execution_count": 3,
   "metadata": {},
   "outputs": [],
   "source": [
    "def compute_metrics(eval_pred):\n",
    "    logits, labels = eval_pred\n",
    "    predictions = np.argmax(logits, axis=-1)\n",
    "\n",
    "    accuracy = accuracy_score(labels, predictions)\n",
    "    recall = recall_score(labels, predictions)\n",
    "    precision = precision_score(labels, predictions)\n",
    "    f1 = f1_score(labels, predictions)\n",
    "\n",
    "    return {\"accuracy\": accuracy, \"recall\": recall, \"precision\": precision, \"f1\": f1}"
   ]
  },
  {
   "cell_type": "code",
   "execution_count": null,
   "metadata": {},
   "outputs": [],
   "source": [
    "PATH = 'google/electra-small-discriminator'\n",
    "tokenizer = ElectraTokenizerFast.from_pretrained(PATH)"
   ]
  },
  {
   "cell_type": "code",
   "execution_count": 5,
   "metadata": {},
   "outputs": [],
   "source": [
    "class Suicide_Dataset(Dataset):\n",
    "    def __init__(self,tokenizer:PreTrainedTokenizerBase,train_data,train_label):\n",
    "        self.data = train_data.to_numpy()\n",
    "        self.label = torch.tensor(train_label.to_numpy())\n",
    "        self.tokenizer = tokenizer\n",
    "        \n",
    "    def __len__(self):\n",
    "        return len(self.data)\n",
    "    \n",
    "    def __getitem__(self,id):\n",
    "        sentence = self.data[id]\n",
    "        target = self.label[id]\n",
    "        encoding = self.tokenizer(sentence, return_tensors='pt', padding='max_length', truncation=True, max_length=512)\n",
    "        return {\n",
    "            'input_ids': encoding['input_ids'].squeeze(0), # Squeeze to remove the extra dimension\n",
    "            'attention_mask': encoding['attention_mask'].squeeze(0),\n",
    "            'labels': target\n",
    "        }"
   ]
  },
  {
   "cell_type": "code",
   "execution_count": null,
   "metadata": {},
   "outputs": [],
   "source": [
    "df1 = pd.read_csv(\"../../../data/Suicide_Detection.csv\")\n",
    "df1[\"class\"] = df1[\"class\"].apply(lambda x: 1 if x == \"suicide\" else 0)\n",
    "label = df1[\"class\"]\n",
    "data = df1[\"text\"]\n",
    "train_data,test_data,train_label,test_label = train_test_split(data,label,test_size=0.2,random_state=RANDOM_SEED)\n",
    "train_dataset = Suicide_Dataset(tokenizer,train_data,train_label)\n",
    "test_dataset = Suicide_Dataset(tokenizer,test_data,test_label)"
   ]
  },
  {
   "cell_type": "code",
   "execution_count": 7,
   "metadata": {},
   "outputs": [
    {
     "data": {
      "text/plain": [
       "185659"
      ]
     },
     "execution_count": 7,
     "metadata": {},
     "output_type": "execute_result"
    }
   ],
   "source": [
    "len(train_dataset)"
   ]
  },
  {
   "cell_type": "code",
   "execution_count": 8,
   "metadata": {},
   "outputs": [
    {
     "data": {
      "text/plain": [
       "ElectraForSequenceClassification(\n",
       "  (electra): ElectraModel(\n",
       "    (embeddings): ElectraEmbeddings(\n",
       "      (word_embeddings): Embedding(30522, 128, padding_idx=0)\n",
       "      (position_embeddings): Embedding(512, 128)\n",
       "      (token_type_embeddings): Embedding(2, 128)\n",
       "      (LayerNorm): LayerNorm((128,), eps=1e-12, elementwise_affine=True)\n",
       "      (dropout): Dropout(p=0.1, inplace=False)\n",
       "    )\n",
       "    (embeddings_project): Linear(in_features=128, out_features=256, bias=True)\n",
       "    (encoder): ElectraEncoder(\n",
       "      (layer): ModuleList(\n",
       "        (0-11): 12 x ElectraLayer(\n",
       "          (attention): ElectraAttention(\n",
       "            (self): ElectraSelfAttention(\n",
       "              (query): Linear(in_features=256, out_features=256, bias=True)\n",
       "              (key): Linear(in_features=256, out_features=256, bias=True)\n",
       "              (value): Linear(in_features=256, out_features=256, bias=True)\n",
       "              (dropout): Dropout(p=0.1, inplace=False)\n",
       "            )\n",
       "            (output): ElectraSelfOutput(\n",
       "              (dense): Linear(in_features=256, out_features=256, bias=True)\n",
       "              (LayerNorm): LayerNorm((256,), eps=1e-12, elementwise_affine=True)\n",
       "              (dropout): Dropout(p=0.1, inplace=False)\n",
       "            )\n",
       "          )\n",
       "          (intermediate): ElectraIntermediate(\n",
       "            (dense): Linear(in_features=256, out_features=1024, bias=True)\n",
       "            (intermediate_act_fn): GELUActivation()\n",
       "          )\n",
       "          (output): ElectraOutput(\n",
       "            (dense): Linear(in_features=1024, out_features=256, bias=True)\n",
       "            (LayerNorm): LayerNorm((256,), eps=1e-12, elementwise_affine=True)\n",
       "            (dropout): Dropout(p=0.1, inplace=False)\n",
       "          )\n",
       "        )\n",
       "      )\n",
       "    )\n",
       "  )\n",
       "  (classifier): ElectraClassificationHead(\n",
       "    (dense): Linear(in_features=256, out_features=256, bias=True)\n",
       "    (dropout): Dropout(p=0.1, inplace=False)\n",
       "    (out_proj): Linear(in_features=256, out_features=2, bias=True)\n",
       "  )\n",
       ")"
      ]
     },
     "execution_count": 8,
     "metadata": {},
     "output_type": "execute_result"
    }
   ],
   "source": [
    "discriminator = ElectraForSequenceClassification.from_pretrained(PATH)\n",
    "discriminator.to(device)"
   ]
  },
  {
   "cell_type": "code",
   "execution_count": 9,
   "metadata": {},
   "outputs": [
    {
     "name": "stdout",
     "output_type": "stream",
     "text": [
      "Layer: electra.embeddings.word_embeddings.weight | Requires Grad: True\n",
      "Layer: electra.embeddings.position_embeddings.weight | Requires Grad: True\n",
      "Layer: electra.embeddings.token_type_embeddings.weight | Requires Grad: True\n",
      "Layer: electra.embeddings.LayerNorm.weight | Requires Grad: True\n",
      "Layer: electra.embeddings.LayerNorm.bias | Requires Grad: True\n",
      "Layer: electra.embeddings_project.weight | Requires Grad: True\n",
      "Layer: electra.embeddings_project.bias | Requires Grad: True\n",
      "Layer: electra.encoder.layer.0.attention.self.query.weight | Requires Grad: True\n",
      "Layer: electra.encoder.layer.0.attention.self.query.bias | Requires Grad: True\n",
      "Layer: electra.encoder.layer.0.attention.self.key.weight | Requires Grad: True\n",
      "Layer: electra.encoder.layer.0.attention.self.key.bias | Requires Grad: True\n",
      "Layer: electra.encoder.layer.0.attention.self.value.weight | Requires Grad: True\n",
      "Layer: electra.encoder.layer.0.attention.self.value.bias | Requires Grad: True\n",
      "Layer: electra.encoder.layer.0.attention.output.dense.weight | Requires Grad: True\n",
      "Layer: electra.encoder.layer.0.attention.output.dense.bias | Requires Grad: True\n",
      "Layer: electra.encoder.layer.0.attention.output.LayerNorm.weight | Requires Grad: True\n",
      "Layer: electra.encoder.layer.0.attention.output.LayerNorm.bias | Requires Grad: True\n",
      "Layer: electra.encoder.layer.0.intermediate.dense.weight | Requires Grad: True\n",
      "Layer: electra.encoder.layer.0.intermediate.dense.bias | Requires Grad: True\n",
      "Layer: electra.encoder.layer.0.output.dense.weight | Requires Grad: True\n",
      "Layer: electra.encoder.layer.0.output.dense.bias | Requires Grad: True\n",
      "Layer: electra.encoder.layer.0.output.LayerNorm.weight | Requires Grad: True\n",
      "Layer: electra.encoder.layer.0.output.LayerNorm.bias | Requires Grad: True\n",
      "Layer: electra.encoder.layer.1.attention.self.query.weight | Requires Grad: True\n",
      "Layer: electra.encoder.layer.1.attention.self.query.bias | Requires Grad: True\n",
      "Layer: electra.encoder.layer.1.attention.self.key.weight | Requires Grad: True\n",
      "Layer: electra.encoder.layer.1.attention.self.key.bias | Requires Grad: True\n",
      "Layer: electra.encoder.layer.1.attention.self.value.weight | Requires Grad: True\n",
      "Layer: electra.encoder.layer.1.attention.self.value.bias | Requires Grad: True\n",
      "Layer: electra.encoder.layer.1.attention.output.dense.weight | Requires Grad: True\n",
      "Layer: electra.encoder.layer.1.attention.output.dense.bias | Requires Grad: True\n",
      "Layer: electra.encoder.layer.1.attention.output.LayerNorm.weight | Requires Grad: True\n",
      "Layer: electra.encoder.layer.1.attention.output.LayerNorm.bias | Requires Grad: True\n",
      "Layer: electra.encoder.layer.1.intermediate.dense.weight | Requires Grad: True\n",
      "Layer: electra.encoder.layer.1.intermediate.dense.bias | Requires Grad: True\n",
      "Layer: electra.encoder.layer.1.output.dense.weight | Requires Grad: True\n",
      "Layer: electra.encoder.layer.1.output.dense.bias | Requires Grad: True\n",
      "Layer: electra.encoder.layer.1.output.LayerNorm.weight | Requires Grad: True\n",
      "Layer: electra.encoder.layer.1.output.LayerNorm.bias | Requires Grad: True\n",
      "Layer: electra.encoder.layer.2.attention.self.query.weight | Requires Grad: True\n",
      "Layer: electra.encoder.layer.2.attention.self.query.bias | Requires Grad: True\n",
      "Layer: electra.encoder.layer.2.attention.self.key.weight | Requires Grad: True\n",
      "Layer: electra.encoder.layer.2.attention.self.key.bias | Requires Grad: True\n",
      "Layer: electra.encoder.layer.2.attention.self.value.weight | Requires Grad: True\n",
      "Layer: electra.encoder.layer.2.attention.self.value.bias | Requires Grad: True\n",
      "Layer: electra.encoder.layer.2.attention.output.dense.weight | Requires Grad: True\n",
      "Layer: electra.encoder.layer.2.attention.output.dense.bias | Requires Grad: True\n",
      "Layer: electra.encoder.layer.2.attention.output.LayerNorm.weight | Requires Grad: True\n",
      "Layer: electra.encoder.layer.2.attention.output.LayerNorm.bias | Requires Grad: True\n",
      "Layer: electra.encoder.layer.2.intermediate.dense.weight | Requires Grad: True\n",
      "Layer: electra.encoder.layer.2.intermediate.dense.bias | Requires Grad: True\n",
      "Layer: electra.encoder.layer.2.output.dense.weight | Requires Grad: True\n",
      "Layer: electra.encoder.layer.2.output.dense.bias | Requires Grad: True\n",
      "Layer: electra.encoder.layer.2.output.LayerNorm.weight | Requires Grad: True\n",
      "Layer: electra.encoder.layer.2.output.LayerNorm.bias | Requires Grad: True\n",
      "Layer: electra.encoder.layer.3.attention.self.query.weight | Requires Grad: True\n",
      "Layer: electra.encoder.layer.3.attention.self.query.bias | Requires Grad: True\n",
      "Layer: electra.encoder.layer.3.attention.self.key.weight | Requires Grad: True\n",
      "Layer: electra.encoder.layer.3.attention.self.key.bias | Requires Grad: True\n",
      "Layer: electra.encoder.layer.3.attention.self.value.weight | Requires Grad: True\n",
      "Layer: electra.encoder.layer.3.attention.self.value.bias | Requires Grad: True\n",
      "Layer: electra.encoder.layer.3.attention.output.dense.weight | Requires Grad: True\n",
      "Layer: electra.encoder.layer.3.attention.output.dense.bias | Requires Grad: True\n",
      "Layer: electra.encoder.layer.3.attention.output.LayerNorm.weight | Requires Grad: True\n",
      "Layer: electra.encoder.layer.3.attention.output.LayerNorm.bias | Requires Grad: True\n",
      "Layer: electra.encoder.layer.3.intermediate.dense.weight | Requires Grad: True\n",
      "Layer: electra.encoder.layer.3.intermediate.dense.bias | Requires Grad: True\n",
      "Layer: electra.encoder.layer.3.output.dense.weight | Requires Grad: True\n",
      "Layer: electra.encoder.layer.3.output.dense.bias | Requires Grad: True\n",
      "Layer: electra.encoder.layer.3.output.LayerNorm.weight | Requires Grad: True\n",
      "Layer: electra.encoder.layer.3.output.LayerNorm.bias | Requires Grad: True\n",
      "Layer: electra.encoder.layer.4.attention.self.query.weight | Requires Grad: True\n",
      "Layer: electra.encoder.layer.4.attention.self.query.bias | Requires Grad: True\n",
      "Layer: electra.encoder.layer.4.attention.self.key.weight | Requires Grad: True\n",
      "Layer: electra.encoder.layer.4.attention.self.key.bias | Requires Grad: True\n",
      "Layer: electra.encoder.layer.4.attention.self.value.weight | Requires Grad: True\n",
      "Layer: electra.encoder.layer.4.attention.self.value.bias | Requires Grad: True\n",
      "Layer: electra.encoder.layer.4.attention.output.dense.weight | Requires Grad: True\n",
      "Layer: electra.encoder.layer.4.attention.output.dense.bias | Requires Grad: True\n",
      "Layer: electra.encoder.layer.4.attention.output.LayerNorm.weight | Requires Grad: True\n",
      "Layer: electra.encoder.layer.4.attention.output.LayerNorm.bias | Requires Grad: True\n",
      "Layer: electra.encoder.layer.4.intermediate.dense.weight | Requires Grad: True\n",
      "Layer: electra.encoder.layer.4.intermediate.dense.bias | Requires Grad: True\n",
      "Layer: electra.encoder.layer.4.output.dense.weight | Requires Grad: True\n",
      "Layer: electra.encoder.layer.4.output.dense.bias | Requires Grad: True\n",
      "Layer: electra.encoder.layer.4.output.LayerNorm.weight | Requires Grad: True\n",
      "Layer: electra.encoder.layer.4.output.LayerNorm.bias | Requires Grad: True\n",
      "Layer: electra.encoder.layer.5.attention.self.query.weight | Requires Grad: True\n",
      "Layer: electra.encoder.layer.5.attention.self.query.bias | Requires Grad: True\n",
      "Layer: electra.encoder.layer.5.attention.self.key.weight | Requires Grad: True\n",
      "Layer: electra.encoder.layer.5.attention.self.key.bias | Requires Grad: True\n",
      "Layer: electra.encoder.layer.5.attention.self.value.weight | Requires Grad: True\n",
      "Layer: electra.encoder.layer.5.attention.self.value.bias | Requires Grad: True\n",
      "Layer: electra.encoder.layer.5.attention.output.dense.weight | Requires Grad: True\n",
      "Layer: electra.encoder.layer.5.attention.output.dense.bias | Requires Grad: True\n",
      "Layer: electra.encoder.layer.5.attention.output.LayerNorm.weight | Requires Grad: True\n",
      "Layer: electra.encoder.layer.5.attention.output.LayerNorm.bias | Requires Grad: True\n",
      "Layer: electra.encoder.layer.5.intermediate.dense.weight | Requires Grad: True\n",
      "Layer: electra.encoder.layer.5.intermediate.dense.bias | Requires Grad: True\n",
      "Layer: electra.encoder.layer.5.output.dense.weight | Requires Grad: True\n",
      "Layer: electra.encoder.layer.5.output.dense.bias | Requires Grad: True\n",
      "Layer: electra.encoder.layer.5.output.LayerNorm.weight | Requires Grad: True\n",
      "Layer: electra.encoder.layer.5.output.LayerNorm.bias | Requires Grad: True\n",
      "Layer: electra.encoder.layer.6.attention.self.query.weight | Requires Grad: True\n",
      "Layer: electra.encoder.layer.6.attention.self.query.bias | Requires Grad: True\n",
      "Layer: electra.encoder.layer.6.attention.self.key.weight | Requires Grad: True\n",
      "Layer: electra.encoder.layer.6.attention.self.key.bias | Requires Grad: True\n",
      "Layer: electra.encoder.layer.6.attention.self.value.weight | Requires Grad: True\n",
      "Layer: electra.encoder.layer.6.attention.self.value.bias | Requires Grad: True\n",
      "Layer: electra.encoder.layer.6.attention.output.dense.weight | Requires Grad: True\n",
      "Layer: electra.encoder.layer.6.attention.output.dense.bias | Requires Grad: True\n",
      "Layer: electra.encoder.layer.6.attention.output.LayerNorm.weight | Requires Grad: True\n",
      "Layer: electra.encoder.layer.6.attention.output.LayerNorm.bias | Requires Grad: True\n",
      "Layer: electra.encoder.layer.6.intermediate.dense.weight | Requires Grad: True\n",
      "Layer: electra.encoder.layer.6.intermediate.dense.bias | Requires Grad: True\n",
      "Layer: electra.encoder.layer.6.output.dense.weight | Requires Grad: True\n",
      "Layer: electra.encoder.layer.6.output.dense.bias | Requires Grad: True\n",
      "Layer: electra.encoder.layer.6.output.LayerNorm.weight | Requires Grad: True\n",
      "Layer: electra.encoder.layer.6.output.LayerNorm.bias | Requires Grad: True\n",
      "Layer: electra.encoder.layer.7.attention.self.query.weight | Requires Grad: True\n",
      "Layer: electra.encoder.layer.7.attention.self.query.bias | Requires Grad: True\n",
      "Layer: electra.encoder.layer.7.attention.self.key.weight | Requires Grad: True\n",
      "Layer: electra.encoder.layer.7.attention.self.key.bias | Requires Grad: True\n",
      "Layer: electra.encoder.layer.7.attention.self.value.weight | Requires Grad: True\n",
      "Layer: electra.encoder.layer.7.attention.self.value.bias | Requires Grad: True\n",
      "Layer: electra.encoder.layer.7.attention.output.dense.weight | Requires Grad: True\n",
      "Layer: electra.encoder.layer.7.attention.output.dense.bias | Requires Grad: True\n",
      "Layer: electra.encoder.layer.7.attention.output.LayerNorm.weight | Requires Grad: True\n",
      "Layer: electra.encoder.layer.7.attention.output.LayerNorm.bias | Requires Grad: True\n",
      "Layer: electra.encoder.layer.7.intermediate.dense.weight | Requires Grad: True\n",
      "Layer: electra.encoder.layer.7.intermediate.dense.bias | Requires Grad: True\n",
      "Layer: electra.encoder.layer.7.output.dense.weight | Requires Grad: True\n",
      "Layer: electra.encoder.layer.7.output.dense.bias | Requires Grad: True\n",
      "Layer: electra.encoder.layer.7.output.LayerNorm.weight | Requires Grad: True\n",
      "Layer: electra.encoder.layer.7.output.LayerNorm.bias | Requires Grad: True\n",
      "Layer: electra.encoder.layer.8.attention.self.query.weight | Requires Grad: True\n",
      "Layer: electra.encoder.layer.8.attention.self.query.bias | Requires Grad: True\n",
      "Layer: electra.encoder.layer.8.attention.self.key.weight | Requires Grad: True\n",
      "Layer: electra.encoder.layer.8.attention.self.key.bias | Requires Grad: True\n",
      "Layer: electra.encoder.layer.8.attention.self.value.weight | Requires Grad: True\n",
      "Layer: electra.encoder.layer.8.attention.self.value.bias | Requires Grad: True\n",
      "Layer: electra.encoder.layer.8.attention.output.dense.weight | Requires Grad: True\n",
      "Layer: electra.encoder.layer.8.attention.output.dense.bias | Requires Grad: True\n",
      "Layer: electra.encoder.layer.8.attention.output.LayerNorm.weight | Requires Grad: True\n",
      "Layer: electra.encoder.layer.8.attention.output.LayerNorm.bias | Requires Grad: True\n",
      "Layer: electra.encoder.layer.8.intermediate.dense.weight | Requires Grad: True\n",
      "Layer: electra.encoder.layer.8.intermediate.dense.bias | Requires Grad: True\n",
      "Layer: electra.encoder.layer.8.output.dense.weight | Requires Grad: True\n",
      "Layer: electra.encoder.layer.8.output.dense.bias | Requires Grad: True\n",
      "Layer: electra.encoder.layer.8.output.LayerNorm.weight | Requires Grad: True\n",
      "Layer: electra.encoder.layer.8.output.LayerNorm.bias | Requires Grad: True\n",
      "Layer: electra.encoder.layer.9.attention.self.query.weight | Requires Grad: True\n",
      "Layer: electra.encoder.layer.9.attention.self.query.bias | Requires Grad: True\n",
      "Layer: electra.encoder.layer.9.attention.self.key.weight | Requires Grad: True\n",
      "Layer: electra.encoder.layer.9.attention.self.key.bias | Requires Grad: True\n",
      "Layer: electra.encoder.layer.9.attention.self.value.weight | Requires Grad: True\n",
      "Layer: electra.encoder.layer.9.attention.self.value.bias | Requires Grad: True\n",
      "Layer: electra.encoder.layer.9.attention.output.dense.weight | Requires Grad: True\n",
      "Layer: electra.encoder.layer.9.attention.output.dense.bias | Requires Grad: True\n",
      "Layer: electra.encoder.layer.9.attention.output.LayerNorm.weight | Requires Grad: True\n",
      "Layer: electra.encoder.layer.9.attention.output.LayerNorm.bias | Requires Grad: True\n",
      "Layer: electra.encoder.layer.9.intermediate.dense.weight | Requires Grad: True\n",
      "Layer: electra.encoder.layer.9.intermediate.dense.bias | Requires Grad: True\n",
      "Layer: electra.encoder.layer.9.output.dense.weight | Requires Grad: True\n",
      "Layer: electra.encoder.layer.9.output.dense.bias | Requires Grad: True\n",
      "Layer: electra.encoder.layer.9.output.LayerNorm.weight | Requires Grad: True\n",
      "Layer: electra.encoder.layer.9.output.LayerNorm.bias | Requires Grad: True\n",
      "Layer: electra.encoder.layer.10.attention.self.query.weight | Requires Grad: True\n",
      "Layer: electra.encoder.layer.10.attention.self.query.bias | Requires Grad: True\n",
      "Layer: electra.encoder.layer.10.attention.self.key.weight | Requires Grad: True\n",
      "Layer: electra.encoder.layer.10.attention.self.key.bias | Requires Grad: True\n",
      "Layer: electra.encoder.layer.10.attention.self.value.weight | Requires Grad: True\n",
      "Layer: electra.encoder.layer.10.attention.self.value.bias | Requires Grad: True\n",
      "Layer: electra.encoder.layer.10.attention.output.dense.weight | Requires Grad: True\n",
      "Layer: electra.encoder.layer.10.attention.output.dense.bias | Requires Grad: True\n",
      "Layer: electra.encoder.layer.10.attention.output.LayerNorm.weight | Requires Grad: True\n",
      "Layer: electra.encoder.layer.10.attention.output.LayerNorm.bias | Requires Grad: True\n",
      "Layer: electra.encoder.layer.10.intermediate.dense.weight | Requires Grad: True\n",
      "Layer: electra.encoder.layer.10.intermediate.dense.bias | Requires Grad: True\n",
      "Layer: electra.encoder.layer.10.output.dense.weight | Requires Grad: True\n",
      "Layer: electra.encoder.layer.10.output.dense.bias | Requires Grad: True\n",
      "Layer: electra.encoder.layer.10.output.LayerNorm.weight | Requires Grad: True\n",
      "Layer: electra.encoder.layer.10.output.LayerNorm.bias | Requires Grad: True\n",
      "Layer: electra.encoder.layer.11.attention.self.query.weight | Requires Grad: True\n",
      "Layer: electra.encoder.layer.11.attention.self.query.bias | Requires Grad: True\n",
      "Layer: electra.encoder.layer.11.attention.self.key.weight | Requires Grad: True\n",
      "Layer: electra.encoder.layer.11.attention.self.key.bias | Requires Grad: True\n",
      "Layer: electra.encoder.layer.11.attention.self.value.weight | Requires Grad: True\n",
      "Layer: electra.encoder.layer.11.attention.self.value.bias | Requires Grad: True\n",
      "Layer: electra.encoder.layer.11.attention.output.dense.weight | Requires Grad: True\n",
      "Layer: electra.encoder.layer.11.attention.output.dense.bias | Requires Grad: True\n",
      "Layer: electra.encoder.layer.11.attention.output.LayerNorm.weight | Requires Grad: True\n",
      "Layer: electra.encoder.layer.11.attention.output.LayerNorm.bias | Requires Grad: True\n",
      "Layer: electra.encoder.layer.11.intermediate.dense.weight | Requires Grad: True\n",
      "Layer: electra.encoder.layer.11.intermediate.dense.bias | Requires Grad: True\n",
      "Layer: electra.encoder.layer.11.output.dense.weight | Requires Grad: True\n",
      "Layer: electra.encoder.layer.11.output.dense.bias | Requires Grad: True\n",
      "Layer: electra.encoder.layer.11.output.LayerNorm.weight | Requires Grad: True\n",
      "Layer: electra.encoder.layer.11.output.LayerNorm.bias | Requires Grad: True\n",
      "Layer: classifier.dense.weight | Requires Grad: True\n",
      "Layer: classifier.dense.bias | Requires Grad: True\n",
      "Layer: classifier.out_proj.weight | Requires Grad: True\n",
      "Layer: classifier.out_proj.bias | Requires Grad: True\n"
     ]
    }
   ],
   "source": [
    "for name, param in discriminator.named_parameters():\n",
    "    print(f\"Layer: {name} | Requires Grad: {param.requires_grad}\")"
   ]
  },
  {
   "cell_type": "code",
   "execution_count": 10,
   "metadata": {},
   "outputs": [],
   "source": [
    "training_args = TrainingArguments(\n",
    "    output_dir=\"./finetuned-electra\",\n",
    "    evaluation_strategy='epoch',\n",
    "    learning_rate=1e-5,\n",
    "    per_device_train_batch_size=16,\n",
    "    per_device_eval_batch_size=16,\n",
    "    num_train_epochs=3,\n",
    "    weight_decay=0.01,\n",
    "    overwrite_output_dir=True\n",
    ")\n",
    "\n",
    "trainer = Trainer(\n",
    "    model=discriminator,\n",
    "    args=training_args,\n",
    "    train_dataset=train_dataset,\n",
    "    eval_dataset=test_dataset,\n",
    "    compute_metrics=compute_metrics\n",
    ")"
   ]
  },
  {
   "cell_type": "code",
   "execution_count": null,
   "metadata": {},
   "outputs": [],
   "source": [
    "trainer.train(resume_from_checkpoint=True)"
   ]
  },
  {
   "cell_type": "code",
   "execution_count": 11,
   "metadata": {},
   "outputs": [
    {
     "data": {
      "application/vnd.jupyter.widget-view+json": {
       "model_id": "5f554510f6f744f28aa15ad089be1282",
       "version_major": 2,
       "version_minor": 0
      },
      "text/plain": [
       "  0%|          | 0/2901 [00:00<?, ?it/s]"
      ]
     },
     "metadata": {},
     "output_type": "display_data"
    },
    {
     "name": "stderr",
     "output_type": "stream",
     "text": [
      "\u001b[34m\u001b[1mwandb\u001b[0m: Using wandb-core as the SDK backend. Please refer to https://wandb.me/wandb-core for more information.\n",
      "\u001b[34m\u001b[1mwandb\u001b[0m: Currently logged in as: \u001b[33msylvis\u001b[0m (\u001b[33msylvis-hanoi-university-of-science-and-technology\u001b[0m). Use \u001b[1m`wandb login --relogin`\u001b[0m to force relogin\n"
     ]
    },
    {
     "data": {
      "text/html": [
       "Tracking run with wandb version 0.18.5"
      ],
      "text/plain": [
       "<IPython.core.display.HTML object>"
      ]
     },
     "metadata": {},
     "output_type": "display_data"
    },
    {
     "data": {
      "text/html": [
       "Run data is saved locally in <code>d:\\Repo\\HUST-SuicideDetection-DeepLearning\\model\\wandb\\run-20241111_212157-p5zuk7u0</code>"
      ],
      "text/plain": [
       "<IPython.core.display.HTML object>"
      ]
     },
     "metadata": {},
     "output_type": "display_data"
    },
    {
     "data": {
      "text/html": [
       "Syncing run <strong><a href='https://wandb.ai/sylvis-hanoi-university-of-science-and-technology/huggingface/runs/p5zuk7u0' target=\"_blank\">polished-snow-1</a></strong> to <a href='https://wandb.ai/sylvis-hanoi-university-of-science-and-technology/huggingface' target=\"_blank\">Weights & Biases</a> (<a href='https://wandb.me/run' target=\"_blank\">docs</a>)<br/>"
      ],
      "text/plain": [
       "<IPython.core.display.HTML object>"
      ]
     },
     "metadata": {},
     "output_type": "display_data"
    },
    {
     "data": {
      "text/html": [
       " View project at <a href='https://wandb.ai/sylvis-hanoi-university-of-science-and-technology/huggingface' target=\"_blank\">https://wandb.ai/sylvis-hanoi-university-of-science-and-technology/huggingface</a>"
      ],
      "text/plain": [
       "<IPython.core.display.HTML object>"
      ]
     },
     "metadata": {},
     "output_type": "display_data"
    },
    {
     "data": {
      "text/html": [
       " View run at <a href='https://wandb.ai/sylvis-hanoi-university-of-science-and-technology/huggingface/runs/p5zuk7u0' target=\"_blank\">https://wandb.ai/sylvis-hanoi-university-of-science-and-technology/huggingface/runs/p5zuk7u0</a>"
      ],
      "text/plain": [
       "<IPython.core.display.HTML object>"
      ]
     },
     "metadata": {},
     "output_type": "display_data"
    },
    {
     "data": {
      "text/plain": [
       "{'eval_loss': 0.12574569880962372,\n",
       " 'eval_accuracy': 0.9762576753204782,\n",
       " 'eval_recall': 0.9797215496368039,\n",
       " 'eval_precision': 0.9728232869654817,\n",
       " 'eval_f1': 0.976260232658337,\n",
       " 'eval_runtime': 222.8289,\n",
       " 'eval_samples_per_second': 208.299,\n",
       " 'eval_steps_per_second': 13.019}"
      ]
     },
     "execution_count": 11,
     "metadata": {},
     "output_type": "execute_result"
    }
   ],
   "source": [
    "trainer.evaluate()"
   ]
  },
  {
   "cell_type": "code",
   "execution_count": null,
   "metadata": {},
   "outputs": [],
   "source": [
    "trainer.save_model(\"./finetuned-electra\")\n",
    "tokenizer.save_pretrained(\"./finetuned-electra\")"
   ]
  }
 ],
 "metadata": {
  "kernelspec": {
   "display_name": "Python 3",
   "language": "python",
   "name": "python3"
  },
  "language_info": {
   "codemirror_mode": {
    "name": "ipython",
    "version": 3
   },
   "file_extension": ".py",
   "mimetype": "text/x-python",
   "name": "python",
   "nbconvert_exporter": "python",
   "pygments_lexer": "ipython3",
   "version": "3.11.3"
  }
 },
 "nbformat": 4,
 "nbformat_minor": 2
}
